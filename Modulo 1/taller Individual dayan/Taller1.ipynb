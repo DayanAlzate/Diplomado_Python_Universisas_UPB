{
 "cells": [
  {
   "cell_type": "markdown",
   "id": "05eeb0da",
   "metadata": {},
   "source": [
    "# taller 1 "
   ]
  },
  {
   "cell_type": "code",
   "execution_count": 9,
   "id": "518047db",
   "metadata": {
    "scrolled": true
   },
   "outputs": [
    {
     "name": "stdout",
     "output_type": "stream",
     "text": [
      "Porfavor Ingrese El Nombre Del Artista \n",
      "dayan\n",
      "Zorra yo quiero castigarte suave toda la noche sin compromiso yo quiero castigarte durisimo hasta que salga el sol sin miedo Gata yo quiero azotarte lento hasta el amanecer  en el baño dayan yo quiero azotarte fuerte hasta que me muera contra la pared Chica vamos a encenderte rapido hata mañana sin compromiso \n"
     ]
    }
   ],
   "source": [
    "import random\n",
    "\n",
    "## algoridmo para componer cansiones de reggeton \n",
    "#creamos 6 listas con un conjuto de palabras que conformam iraciones para poder componer cansiones de reggeton \n",
    "    \n",
    "sustantivo =[\"Mami \",\"Gata \",\"Zorra \",\"Chica \",\"Bebe \",\"chiquita \"]\n",
    "\n",
    "Verbos_compuestos=[\"yo quiero \", \"vamos a \", \"yo voy a \", \"yo quiero \", \"yo vengo a \", \"dime tu si quieres \"]\n",
    "\n",
    "adverbios=[\"castigarte \", \"cogerte \",\"encenderte \", \"darte \", \"azotarte \",\"calentarte \"]\n",
    "\n",
    "adjetivo=[\"duro \",\"rapido \",\"lento \",\"suave \",\"fuerte \",\"durisimo \"]\n",
    "\n",
    "predicado=[\"hasta que salga el sol \",\"toda la noche \",\"hasta el amanecer \",\"hata mañana \",\"todo el dia \",\"hasta que me muera \"]\n",
    "\n",
    "segundo_predicado=[\"sin miedo \",\"sin anestecia \",\"en el piso \",\"contra la pared \",\"sin compromiso \" ,\" en el baño \"]\n",
    "\n",
    "\n",
    "\n",
    "cansion=\"\"\n",
    "# pedimos al usuario que ingrese el nombre del artista para poder integrarlo a la oracion que queremos componer \n",
    "nombre_artista=input(\"Porfavor Ingrese El Nombre Del Artista \\n\")\n",
    "\n",
    "# siclo que se repite 5 veces\n",
    "for inicio in range(5):\n",
    "    divi=inicio%2\n",
    "    \n",
    "#variables que contienen numeros aleatorios del 0 al 4 \n",
    "    var_aleatoria1=random.randint(0,5)\n",
    "    var_aleatoria2=random.randint(0,5)\n",
    "    var_aleatoria3=random.randint(0,5)\n",
    "    var_aleatoria4=random.randint(0,5)\n",
    "    var_aleatoria5=random.randint(0,5)\n",
    "    var_aleatoria6=random.randint(0,5)\n",
    "#conjugamos las 6 listas en el orden que fueron creados en la poscicion aleatoria que anterior mente se definio \n",
    "    \n",
    "    if divi==0:\n",
    "        \n",
    "        cansion=cansion+sustantivo[var_aleatoria1]+Verbos_compuestos[var_aleatoria2]+adverbios[var_aleatoria3]+adjetivo[var_aleatoria4]+predicado[var_aleatoria5]+segundo_predicado[var_aleatoria6]\n",
    "    else:\n",
    "        if inicio == 3:\n",
    "            cansion=cansion+nombre_artista+\" \"+Verbos_compuestos[var_aleatoria2]+adverbios[var_aleatoria3]+adjetivo[var_aleatoria4]+predicado[var_aleatoria5]+segundo_predicado[var_aleatoria6]\n",
    "\n",
    "        else:\n",
    "            cansion=cansion+Verbos_compuestos[var_aleatoria2]+adverbios[var_aleatoria3]+adjetivo[var_aleatoria4]+predicado[var_aleatoria5]+segundo_predicado[var_aleatoria6]    \n",
    "\n",
    "        \n",
    "print(cansion)\n",
    "\n"
   ]
  },
  {
   "cell_type": "code",
   "execution_count": null,
   "id": "99af3847",
   "metadata": {},
   "outputs": [],
   "source": []
  },
  {
   "cell_type": "code",
   "execution_count": null,
   "id": "e99dc223",
   "metadata": {},
   "outputs": [],
   "source": []
  },
  {
   "cell_type": "code",
   "execution_count": null,
   "id": "195b4404",
   "metadata": {},
   "outputs": [],
   "source": []
  },
  {
   "cell_type": "code",
   "execution_count": null,
   "id": "f8b37c4a",
   "metadata": {},
   "outputs": [],
   "source": []
  },
  {
   "cell_type": "code",
   "execution_count": null,
   "id": "4b2adf5c",
   "metadata": {},
   "outputs": [],
   "source": []
  }
 ],
 "metadata": {
  "kernelspec": {
   "display_name": "Python 3 (ipykernel)",
   "language": "python",
   "name": "python3"
  },
  "language_info": {
   "codemirror_mode": {
    "name": "ipython",
    "version": 3
   },
   "file_extension": ".py",
   "mimetype": "text/x-python",
   "name": "python",
   "nbconvert_exporter": "python",
   "pygments_lexer": "ipython3",
   "version": "3.8.10"
  }
 },
 "nbformat": 4,
 "nbformat_minor": 5
}
