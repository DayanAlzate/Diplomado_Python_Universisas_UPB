{
 "cells": [
  {
   "cell_type": "markdown",
   "id": "b8f173d0",
   "metadata": {
    "scrolled": true
   },
   "source": [
    "\n",
    "\n",
    "\n",
    "       \n",
    "\n",
    "\n",
    "    "
   ]
  },
  {
   "cell_type": "code",
   "execution_count": 2,
   "id": "139b95f1",
   "metadata": {},
   "outputs": [],
   "source": [
    "import matplotlib as mp1\n",
    "import matplotlib.pyplot as plt\n",
    "import numpy as np"
   ]
  },
  {
   "cell_type": "code",
   "execution_count": 9,
   "id": "e98f4fd4",
   "metadata": {},
   "outputs": [
    {
     "name": "stdout",
     "output_type": "stream",
     "text": [
      "0\n",
      "0\n",
      "1\n",
      "5\n",
      "---------------------------------\n",
      "0\n",
      "4\n",
      "4\n",
      "18\n",
      "---------------------------------\n",
      "(    error menor    ,       valor de m     ,      valorde b)\n",
      "(3.552713678800501e-12, 1.0000000000002984, 2.8421709430404007e-13)\n"
     ]
    },
    {
     "data": {
      "image/png": "[encoded data removed]",
      "text/plain": [
       "<Figure size 432x288 with 1 Axes>"
      ]
     },
     "metadata": {
      "needs_background": "light"
     },
     "output_type": "display_data"
    }
   ],
   "source": [
    "class erizo_azul():\n",
    "    \n",
    "    datospoints=[(1,1),(3,3),(5,5),(-1,-1)]\n",
    "    possible_ms = []\n",
    "    possible_bs = []\n",
    "    \n",
    "    \n",
    "    def get_y(self,m,b,x):\n",
    "        y=0\n",
    "        y=m*x+b\n",
    "        \n",
    "        return y\n",
    "    def calcular_error(self,m,b,point):\n",
    "        x_point=point[0];\n",
    "        y_point=point[1];\n",
    "        \n",
    "        y= self.get_y(m,b,x_point)\n",
    "    \n",
    "        diferencia= y-x_point        \n",
    "        \n",
    "        return abs(diferencia)\n",
    "    \n",
    "    def calculate_all_error(self, m,b):\n",
    "        erro_total=0\n",
    "        \n",
    "        for inicio in self.datospoints:\n",
    "            \n",
    "            erro_total = erro_total + self.calcular_error(m,b,inicio)\n",
    "            \n",
    "        return erro_total\n",
    "    \n",
    "    \n",
    "    def posibles_listas(self):\n",
    "        \n",
    "        self.possible_ms=[ i for i in np.arange(-20, 20.01, 0.1)]\n",
    "        self.possible_bs=[ i for i in np.arange(-20, 20.01, 0.1)]\n",
    "        \n",
    "        \n",
    "    def error_menor(self):\n",
    "        smallest_error = 100.0\n",
    "        \n",
    "        best_m=0.0\n",
    "        best_b=0.0\n",
    "        \n",
    "        for punto_m in self.possible_ms:\n",
    "            for punto_b in self.possible_bs:\n",
    "                error= self.calculate_all_error(punto_m,punto_b)\n",
    "                \n",
    "                if smallest_error > error:\n",
    "                    \n",
    "                    smallest_error=error\n",
    "                    \n",
    "                    best_m=punto_m\n",
    "                    \n",
    "                    best_b=punto_b\n",
    "                    \n",
    "                    \n",
    "        \n",
    "        return smallest_error,best_m,best_b\n",
    "    def grafica(self):\n",
    "        error,m,b =self.error_menor()\n",
    "\n",
    "        x= [i*0.5 for i in range(0,101)]\n",
    "\n",
    "        y = [m*i+ b for i in x]\n",
    "\n",
    "        plt.plot(x, y)\n",
    "        plt.show()\n",
    "  \n",
    "\n",
    "\n",
    "        \n",
    "       \n",
    "                  \n",
    "objeto = erizo_azul()\n",
    "\n",
    "print (objeto.calcular_error(1,0,(3,3)))\n",
    "print (objeto.calcular_error(1,0,(3,4)))\n",
    "       \n",
    "print (objeto.calcular_error(1,-1,(3,3)))\n",
    "       \n",
    "print (objeto.calcular_error(-1,1,(3,3)))\n",
    "\n",
    "print (\"---------------------------------\")\n",
    "print (objeto.calculate_all_error(1,0))\n",
    "print (objeto.calculate_all_error(1,1))\n",
    "print (objeto.calculate_all_error(1,-1))\n",
    "print (objeto.calculate_all_error(-1,1))\n",
    "\n",
    "print (\"---------------------------------\")\n",
    "\n",
    "objeto.posibles_listas()\n",
    "print(\"(    error menor    ,       valor de m     ,      valorde b)\")\n",
    "print(objeto.error_menor())\n",
    "objeto.grafica()"
   ]
  },
  {
   "cell_type": "code",
   "execution_count": null,
   "id": "8fc2e953",
   "metadata": {},
   "outputs": [],
   "source": []
  },
  {
   "cell_type": "code",
   "execution_count": null,
   "id": "298afc35",
   "metadata": {},
   "outputs": [],
   "source": []
  }
 ],
 "metadata": {
  "kernelspec": {
   "display_name": "Python 3 (ipykernel)",
   "language": "python",
   "name": "python3"
  },
  "language_info": {
   "codemirror_mode": {
    "name": "ipython",
    "version": 3
   },
   "file_extension": ".py",
   "mimetype": "text/x-python",
   "name": "python",
   "nbconvert_exporter": "python",
   "pygments_lexer": "ipython3",
   "version": "3.8.10"
  }
 },
 "nbformat": 4,
 "nbformat_minor": 5
}
